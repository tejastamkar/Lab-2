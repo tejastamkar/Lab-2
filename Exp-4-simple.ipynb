{
 "cells": [
  {
   "cell_type": "code",
   "execution_count": 2,
   "id": "484732cc-5528-4ab7-bbf1-10d3e23e0c02",
   "metadata": {},
   "outputs": [],
   "source": [
    "import numpy as np\n",
    "import pandas as pd\n",
    "import matplotlib.pyplot as plt\n",
    "from sklearn.preprocessing import StandardScaler"
   ]
  },
  {
   "cell_type": "code",
   "execution_count": 3,
   "id": "9994eff2-f24c-4472-8552-353be19419f0",
   "metadata": {},
   "outputs": [],
   "source": [
    "data = pd.DataFrame({\n",
    "    'Feature1': [2.5, 3.5, 4.5, 5.5, 6.5, 7.5],\n",
    "    'Feature2': [8.5, 7.5, 6.5, 5.5, 4.5, 3.5]\n",
    "})"
   ]
  },
  {
   "cell_type": "code",
   "execution_count": 4,
   "id": "c5f3491b-9158-4f92-8187-ae3bc774666c",
   "metadata": {},
   "outputs": [],
   "source": [
    "scaler = StandardScaler()\n",
    "data_scaled = scaler.fit_transform(data)"
   ]
  },
  {
   "cell_type": "code",
   "execution_count": 8,
   "id": "2dfe8d3e-ac9a-47e0-bb27-1f853ec4127d",
   "metadata": {},
   "outputs": [],
   "source": [
    "covariance_matrix = np.cov(data_scaled.T)"
   ]
  },
  {
   "cell_type": "code",
   "execution_count": 10,
   "id": "5900db78-facd-4bf5-a45a-8336e1e0df78",
   "metadata": {},
   "outputs": [],
   "source": [
    "eigenvalues, eigenvectors = np.linalg.eig(covariance_matrix)"
   ]
  },
  {
   "cell_type": "code",
   "execution_count": 12,
   "id": "7cdf96bf-82c4-4b2a-bd2b-dc19842b6978",
   "metadata": {},
   "outputs": [],
   "source": [
    "sorted_indices = np.argsort(eigenvalues)[::-1]  # Sort eigenvalues in descending order\n",
    "eigenvalues_sorted = eigenvalues[sorted_indices]\n",
    "eigenvectors_sorted = eigenvectors[:, sorted_indices]\n"
   ]
  },
  {
   "cell_type": "code",
   "execution_count": 14,
   "id": "793ddb22-5c2b-4ed8-bcf3-6f7f17168d9a",
   "metadata": {},
   "outputs": [],
   "source": [
    "k = 1\n",
    "principal_components = eigenvectors_sorted[:, :k]"
   ]
  },
  {
   "cell_type": "code",
   "execution_count": 16,
   "id": "9a5a5cc1-b7e0-4aba-a6b8-2a2f4b63a1e6",
   "metadata": {},
   "outputs": [],
   "source": [
    "transformed_data = np.dot(data_scaled, principal_components)"
   ]
  },
  {
   "cell_type": "code",
   "execution_count": 18,
   "id": "e72db184-29fc-4cf7-88ec-2e6a3603235a",
   "metadata": {},
   "outputs": [
    {
     "data": {
      "image/png": "[encoded data removed]",
      "text/plain": [
       "<Figure size 800x600 with 1 Axes>"
      ]
     },
     "metadata": {},
     "output_type": "display_data"
    }
   ],
   "source": [
    "plt.figure(figsize=(8, 6))\n",
    "plt.scatter(transformed_data, np.zeros_like(transformed_data), color='blue')  # 1D data projected\n",
    "plt.title('PCA - Transformed Data (1D)')\n",
    "plt.xlabel('Principal Component 1')\n",
    "plt.grid(True)\n",
    "plt.show()"
   ]
  },
  {
   "cell_type": "code",
   "execution_count": 20,
   "id": "6b05fb80-6bfc-4054-9c3c-b3485bb439f5",
   "metadata": {},
   "outputs": [
    {
     "name": "stdout",
     "output_type": "stream",
     "text": [
      "Eigenvalues (Variance explained by each principal component):\n",
      "[2.40000000e+00 2.66453526e-16]\n"
     ]
    }
   ],
   "source": [
    "print(\"Eigenvalues (Variance explained by each principal component):\")\n",
    "print(eigenvalues_sorted)"
   ]
  },
  {
   "cell_type": "code",
   "execution_count": 22,
   "id": "7e610823-fe33-4967-a4e3-706a1bfafc38",
   "metadata": {},
   "outputs": [
    {
     "name": "stdout",
     "output_type": "stream",
     "text": [
      "\n",
      "Principal Components (Eigenvectors):\n",
      "[[ 0.70710678  0.70710678]\n",
      " [-0.70710678  0.70710678]]\n",
      "\n",
      "Transformed Data (Reduced Dimensionality):\n",
      "[[-2.07019668]\n",
      " [-1.24211801]\n",
      " [-0.41403934]\n",
      " [ 0.41403934]\n",
      " [ 1.24211801]\n",
      " [ 2.07019668]]\n",
      "\n",
      "Explained Variance Ratio per component:\n",
      "[1.00000000e+00 1.11022302e-16]\n",
      "\n",
      "Cumulative Variance Explained:\n",
      "[1. 1.]\n"
     ]
    }
   ],
   "source": [
    "print(\"\\nPrincipal Components (Eigenvectors):\")\n",
    "print(eigenvectors_sorted)\n",
    "\n",
    "print(\"\\nTransformed Data (Reduced Dimensionality):\")\n",
    "print(transformed_data)\n",
    "\n",
    "# Calculate and print the cumulative variance explained\n",
    "explained_variance_ratio = eigenvalues_sorted / np.sum(eigenvalues_sorted)\n",
    "cumulative_variance = np.cumsum(explained_variance_ratio)\n",
    "print(\"\\nExplained Variance Ratio per component:\")\n",
    "print(explained_variance_ratio)\n",
    "\n",
    "print(\"\\nCumulative Variance Explained:\")\n",
    "print(cumulative_variance)\n"
   ]
  },
  {
   "cell_type": "code",
   "execution_count": null,
   "id": "cecb5b5f-c850-4eed-a2f0-24aa222d620d",
   "metadata": {},
   "outputs": [],
   "source": []
  }
 ],
 "metadata": {
  "kernelspec": {
   "display_name": "Python 3 (ipykernel)",
   "language": "python",
   "name": "python3"
  },
  "language_info": {
   "codemirror_mode": {
    "name": "ipython",
    "version": 3
   },
   "file_extension": ".py",
   "mimetype": "text/x-python",
   "name": "python",
   "nbconvert_exporter": "python",
   "pygments_lexer": "ipython3",
   "version": "3.12.7"
  }
 },
 "nbformat": 4,
 "nbformat_minor": 5
}
