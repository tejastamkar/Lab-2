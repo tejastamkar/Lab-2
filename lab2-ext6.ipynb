{
  "metadata": {
    "kernelspec": {
      "language": "python",
      "display_name": "Python 3",
      "name": "python3"
    },
    "language_info": {
      "name": "python",
      "version": "3.10.14",
      "mimetype": "text/x-python",
      "codemirror_mode": {
        "name": "ipython",
        "version": 3
      },
      "pygments_lexer": "ipython3",
      "nbconvert_exporter": "python",
      "file_extension": ".py"
    },
    "kaggle": {
      "accelerator": "none",
      "dataSources": [
        {
          "sourceId": 3004,
          "databundleVersionId": 861823,
          "sourceType": "competition"
        }
      ],
      "isInternetEnabled": false,
      "language": "python",
      "sourceType": "notebook",
      "isGpuEnabled": false
    },
    "colab": {
      "provenance": []
    }
  },
  "nbformat_minor": 0,
  "nbformat": 4,
  "cells": [
    {
      "cell_type": "markdown",
      "source": [
        "# Convolutional Neural Networks (CNN)\n"
      ],
      "metadata": {
        "_uuid": "8c80a83f7fb1ab87aabbdad97d11627fb0380e8f",
        "id": "0q2RUy5aJyTb"
      }
    },
    {
      "cell_type": "code",
      "source": [
        "# This Python 3 environment comes with many helpful analytics libraries installed\n",
        "# It is defined by the kaggle/python docker image: https://github.com/kaggle/docker-python\n",
        "# For example, here's several helpful packages to load in\n",
        "\n",
        "import numpy as np # linear algebra\n",
        "import pandas as pd # data processing, CSV file I/O (e.g. pd.read_csv)\n",
        "import seaborn as sns\n",
        "import matplotlib.pyplot as plt\n",
        "# import warnings\n",
        "import warnings\n",
        "# filter warnings\n",
        "warnings.filterwarnings('ignore')\n",
        "\n",
        "# Input data files are available in the \"../input/\" directory.\n",
        "# For example, running this (by clicking run or pressing Shift+Enter) will list the files in the input directory\n",
        "\n",
        "import os\n",
        "print(os.listdir(\"../input\"))\n",
        "\n",
        "# Any results you write to the current directory are saved as output."
      ],
      "metadata": {
        "_uuid": "8f2839f25d086af736a60e9eeb907d3b93b6e0e5",
        "_cell_guid": "b1076dfc-b9ad-4769-8c92-a6c4dae69d19",
        "trusted": true,
        "execution": {
          "iopub.status.busy": "2024-12-03T10:51:09.545977Z",
          "iopub.execute_input": "2024-12-03T10:51:09.546635Z",
          "iopub.status.idle": "2024-12-03T10:51:09.553773Z",
          "shell.execute_reply.started": "2024-12-03T10:51:09.546597Z",
          "shell.execute_reply": "2024-12-03T10:51:09.552791Z"
        },
        "id": "QMn80tw9JyTc",
        "outputId": "9706a53d-a345-494f-bf5c-98b1082dc8b8"
      },
      "outputs": [
        {
          "name": "stdout",
          "text": "['sample_submission.csv', 'train.csv', 'test.csv']\n",
          "output_type": "stream"
        }
      ],
      "execution_count": null
    },
    {
      "cell_type": "markdown",
      "source": [
        "<a id=\"1\"></a>\n",
        "## Loading the Data Set\n",
        "* In this part we load and visualize the data."
      ],
      "metadata": {
        "_cell_guid": "79c7e3d0-c299-4dcb-8224-4455121ee9b0",
        "collapsed": true,
        "_uuid": "d629ff2d2480ee46fbb7e2d37f6b5fab8052498a",
        "trusted": false,
        "jupyter": {
          "outputs_hidden": true
        },
        "id": "yEiTZbN2JyTd"
      }
    },
    {
      "cell_type": "code",
      "source": [
        "# read train\n",
        "train = pd.read_csv(\"../input/train.csv\")\n",
        "print(train.shape)\n",
        "train.head()"
      ],
      "metadata": {
        "trusted": true,
        "_uuid": "6884db4361a209f639cd6f3bf15231d271ecf563",
        "execution": {
          "iopub.status.busy": "2024-12-03T10:51:09.555451Z",
          "iopub.execute_input": "2024-12-03T10:51:09.555892Z",
          "iopub.status.idle": "2024-12-03T10:51:11.848694Z",
          "shell.execute_reply.started": "2024-12-03T10:51:09.555842Z",
          "shell.execute_reply": "2024-12-03T10:51:11.847623Z"
        },
        "id": "3ohzBy_uJyTd",
        "outputId": "81d88305-a991-4a96-8b8b-de762813b2ab"
      },
      "outputs": [
        {
          "name": "stdout",
          "text": "(42000, 785)\n",
          "output_type": "stream"
        },
        {
          "execution_count": 85,
          "output_type": "execute_result",
          "data": {
            "text/plain": "   label  pixel0  pixel1  pixel2  pixel3  pixel4  pixel5  pixel6  pixel7  \\\n0      1       0       0       0       0       0       0       0       0   \n1      0       0       0       0       0       0       0       0       0   \n2      1       0       0       0       0       0       0       0       0   \n3      4       0       0       0       0       0       0       0       0   \n4      0       0       0       0       0       0       0       0       0   \n\n   pixel8  ...  pixel774  pixel775  pixel776  pixel777  pixel778  pixel779  \\\n0       0  ...         0         0         0         0         0         0   \n1       0  ...         0         0         0         0         0         0   \n2       0  ...         0         0         0         0         0         0   \n3       0  ...         0         0         0         0         0         0   \n4       0  ...         0         0         0         0         0         0   \n\n   pixel780  pixel781  pixel782  pixel783  \n0         0         0         0         0  \n1         0         0         0         0  \n2         0         0         0         0  \n3         0         0         0         0  \n4         0         0         0         0  \n\n[5 rows x 785 columns]",
            "text/html": "<div>\n<style scoped>\n    .dataframe tbody tr th:only-of-type {\n        vertical-align: middle;\n    }\n\n    .dataframe tbody tr th {\n        vertical-align: top;\n    }\n\n    .dataframe thead th {\n        text-align: right;\n    }\n</style>\n<table border=\"1\" class=\"dataframe\">\n  <thead>\n    <tr style=\"text-align: right;\">\n      <th></th>\n      <th>label</th>\n      <th>pixel0</th>\n      <th>pixel1</th>\n      <th>pixel2</th>\n      <th>pixel3</th>\n      <th>pixel4</th>\n      <th>pixel5</th>\n      <th>pixel6</th>\n      <th>pixel7</th>\n      <th>pixel8</th>\n      <th>...</th>\n      <th>pixel774</th>\n      <th>pixel775</th>\n      <th>pixel776</th>\n      <th>pixel777</th>\n      <th>pixel778</th>\n      <th>pixel779</th>\n      <th>pixel780</th>\n      <th>pixel781</th>\n      <th>pixel782</th>\n      <th>pixel783</th>\n    </tr>\n  </thead>\n  <tbody>\n    <tr>\n      <th>0</th>\n      <td>1</td>\n      <td>0</td>\n      <td>0</td>\n      <td>0</td>\n      <td>0</td>\n      <td>0</td>\n      <td>0</td>\n      <td>0</td>\n      <td>0</td>\n      <td>0</td>\n      <td>...</td>\n      <td>0</td>\n      <td>0</td>\n      <td>0</td>\n      <td>0</td>\n      <td>0</td>\n      <td>0</td>\n      <td>0</td>\n      <td>0</td>\n      <td>0</td>\n      <td>0</td>\n    </tr>\n    <tr>\n      <th>1</th>\n      <td>0</td>\n      <td>0</td>\n      <td>0</td>\n      <td>0</td>\n      <td>0</td>\n      <td>0</td>\n      <td>0</td>\n      <td>0</td>\n      <td>0</td>\n      <td>0</td>\n      <td>...</td>\n      <td>0</td>\n      <td>0</td>\n      <td>0</td>\n      <td>0</td>\n      <td>0</td>\n      <td>0</td>\n      <td>0</td>\n      <td>0</td>\n      <td>0</td>\n      <td>0</td>\n    </tr>\n    <tr>\n      <th>2</th>\n      <td>1</td>\n      <td>0</td>\n      <td>0</td>\n      <td>0</td>\n      <td>0</td>\n      <td>0</td>\n      <td>0</td>\n      <td>0</td>\n      <td>0</td>\n      <td>0</td>\n      <td>...</td>\n      <td>0</td>\n      <td>0</td>\n      <td>0</td>\n      <td>0</td>\n      <td>0</td>\n      <td>0</td>\n      <td>0</td>\n      <td>0</td>\n      <td>0</td>\n      <td>0</td>\n    </tr>\n    <tr>\n      <th>3</th>\n      <td>4</td>\n      <td>0</td>\n      <td>0</td>\n      <td>0</td>\n      <td>0</td>\n      <td>0</td>\n      <td>0</td>\n      <td>0</td>\n      <td>0</td>\n      <td>0</td>\n      <td>...</td>\n      <td>0</td>\n      <td>0</td>\n      <td>0</td>\n      <td>0</td>\n      <td>0</td>\n      <td>0</td>\n      <td>0</td>\n      <td>0</td>\n      <td>0</td>\n      <td>0</td>\n    </tr>\n    <tr>\n      <th>4</th>\n      <td>0</td>\n      <td>0</td>\n      <td>0</td>\n      <td>0</td>\n      <td>0</td>\n      <td>0</td>\n      <td>0</td>\n      <td>0</td>\n      <td>0</td>\n      <td>0</td>\n      <td>...</td>\n      <td>0</td>\n      <td>0</td>\n      <td>0</td>\n      <td>0</td>\n      <td>0</td>\n      <td>0</td>\n      <td>0</td>\n      <td>0</td>\n      <td>0</td>\n      <td>0</td>\n    </tr>\n  </tbody>\n</table>\n<p>5 rows × 785 columns</p>\n</div>"
          },
          "metadata": {}
        }
      ],
      "execution_count": null
    },
    {
      "cell_type": "code",
      "source": [
        "# read test\n",
        "test= pd.read_csv(\"../input/test.csv\")\n",
        "print(test.shape)\n",
        "test.head()"
      ],
      "metadata": {
        "trusted": true,
        "_uuid": "d7ab3a0db0c87aef2bb65fae5f564ff4b1260a96",
        "execution": {
          "iopub.status.busy": "2024-12-03T10:51:11.850340Z",
          "iopub.execute_input": "2024-12-03T10:51:11.850695Z",
          "iopub.status.idle": "2024-12-03T10:51:13.306367Z",
          "shell.execute_reply.started": "2024-12-03T10:51:11.850632Z",
          "shell.execute_reply": "2024-12-03T10:51:13.305047Z"
        },
        "id": "omS8gyYGJyTd",
        "outputId": "62e2f011-baf8-43de-fdb3-924ebb7bb573"
      },
      "outputs": [
        {
          "name": "stdout",
          "text": "(28000, 784)\n",
          "output_type": "stream"
        },
        {
          "execution_count": 86,
          "output_type": "execute_result",
          "data": {
            "text/plain": "   pixel0  pixel1  pixel2  pixel3  pixel4  pixel5  pixel6  pixel7  pixel8  \\\n0       0       0       0       0       0       0       0       0       0   \n1       0       0       0       0       0       0       0       0       0   \n2       0       0       0       0       0       0       0       0       0   \n3       0       0       0       0       0       0       0       0       0   \n4       0       0       0       0       0       0       0       0       0   \n\n   pixel9  ...  pixel774  pixel775  pixel776  pixel777  pixel778  pixel779  \\\n0       0  ...         0         0         0         0         0         0   \n1       0  ...         0         0         0         0         0         0   \n2       0  ...         0         0         0         0         0         0   \n3       0  ...         0         0         0         0         0         0   \n4       0  ...         0         0         0         0         0         0   \n\n   pixel780  pixel781  pixel782  pixel783  \n0         0         0         0         0  \n1         0         0         0         0  \n2         0         0         0         0  \n3         0         0         0         0  \n4         0         0         0         0  \n\n[5 rows x 784 columns]",
            "text/html": "<div>\n<style scoped>\n    .dataframe tbody tr th:only-of-type {\n        vertical-align: middle;\n    }\n\n    .dataframe tbody tr th {\n        vertical-align: top;\n    }\n\n    .dataframe thead th {\n        text-align: right;\n    }\n</style>\n<table border=\"1\" class=\"dataframe\">\n  <thead>\n    <tr style=\"text-align: right;\">\n      <th></th>\n      <th>pixel0</th>\n      <th>pixel1</th>\n      <th>pixel2</th>\n      <th>pixel3</th>\n      <th>pixel4</th>\n      <th>pixel5</th>\n      <th>pixel6</th>\n      <th>pixel7</th>\n      <th>pixel8</th>\n      <th>pixel9</th>\n      <th>...</th>\n      <th>pixel774</th>\n      <th>pixel775</th>\n      <th>pixel776</th>\n      <th>pixel777</th>\n      <th>pixel778</th>\n      <th>pixel779</th>\n      <th>pixel780</th>\n      <th>pixel781</th>\n      <th>pixel782</th>\n      <th>pixel783</th>\n    </tr>\n  </thead>\n  <tbody>\n    <tr>\n      <th>0</th>\n      <td>0</td>\n      <td>0</td>\n      <td>0</td>\n      <td>0</td>\n      <td>0</td>\n      <td>0</td>\n      <td>0</td>\n      <td>0</td>\n      <td>0</td>\n      <td>0</td>\n      <td>...</td>\n      <td>0</td>\n      <td>0</td>\n      <td>0</td>\n      <td>0</td>\n      <td>0</td>\n      <td>0</td>\n      <td>0</td>\n      <td>0</td>\n      <td>0</td>\n      <td>0</td>\n    </tr>\n    <tr>\n      <th>1</th>\n      <td>0</td>\n      <td>0</td>\n      <td>0</td>\n      <td>0</td>\n      <td>0</td>\n      <td>0</td>\n      <td>0</td>\n      <td>0</td>\n      <td>0</td>\n      <td>0</td>\n      <td>...</td>\n      <td>0</td>\n      <td>0</td>\n      <td>0</td>\n      <td>0</td>\n      <td>0</td>\n      <td>0</td>\n      <td>0</td>\n      <td>0</td>\n      <td>0</td>\n      <td>0</td>\n    </tr>\n    <tr>\n      <th>2</th>\n      <td>0</td>\n      <td>0</td>\n      <td>0</td>\n      <td>0</td>\n      <td>0</td>\n      <td>0</td>\n      <td>0</td>\n      <td>0</td>\n      <td>0</td>\n      <td>0</td>\n      <td>...</td>\n      <td>0</td>\n      <td>0</td>\n      <td>0</td>\n      <td>0</td>\n      <td>0</td>\n      <td>0</td>\n      <td>0</td>\n      <td>0</td>\n      <td>0</td>\n      <td>0</td>\n    </tr>\n    <tr>\n      <th>3</th>\n      <td>0</td>\n      <td>0</td>\n      <td>0</td>\n      <td>0</td>\n      <td>0</td>\n      <td>0</td>\n      <td>0</td>\n      <td>0</td>\n      <td>0</td>\n      <td>0</td>\n      <td>...</td>\n      <td>0</td>\n      <td>0</td>\n      <td>0</td>\n      <td>0</td>\n      <td>0</td>\n      <td>0</td>\n      <td>0</td>\n      <td>0</td>\n      <td>0</td>\n      <td>0</td>\n    </tr>\n    <tr>\n      <th>4</th>\n      <td>0</td>\n      <td>0</td>\n      <td>0</td>\n      <td>0</td>\n      <td>0</td>\n      <td>0</td>\n      <td>0</td>\n      <td>0</td>\n      <td>0</td>\n      <td>0</td>\n      <td>...</td>\n      <td>0</td>\n      <td>0</td>\n      <td>0</td>\n      <td>0</td>\n      <td>0</td>\n      <td>0</td>\n      <td>0</td>\n      <td>0</td>\n      <td>0</td>\n      <td>0</td>\n    </tr>\n  </tbody>\n</table>\n<p>5 rows × 784 columns</p>\n</div>"
          },
          "metadata": {}
        }
      ],
      "execution_count": null
    },
    {
      "cell_type": "code",
      "source": [
        "# put labels into y_train variable\n",
        "Y_train = train[\"label\"]\n",
        "# Drop 'label' column\n",
        "X_train = train.drop(labels = [\"label\"],axis = 1)"
      ],
      "metadata": {
        "trusted": true,
        "_uuid": "318d94f6e935a6d8210d0ac03707dfa6e3946475",
        "execution": {
          "iopub.status.busy": "2024-12-03T10:51:13.307688Z",
          "iopub.execute_input": "2024-12-03T10:51:13.308034Z",
          "iopub.status.idle": "2024-12-03T10:51:13.403920Z",
          "shell.execute_reply.started": "2024-12-03T10:51:13.308000Z",
          "shell.execute_reply": "2024-12-03T10:51:13.402982Z"
        },
        "id": "7HJ7auQuJyTd"
      },
      "outputs": [],
      "execution_count": null
    },
    {
      "cell_type": "code",
      "source": [
        "# visualize number of digits classes\n",
        "plt.figure(figsize=(15,7))\n",
        "g = sns.countplot(Y_train, palette=\"icefire\")\n",
        "plt.title(\"Number of digit classes\")"
      ],
      "metadata": {
        "trusted": true,
        "_uuid": "8902b0312e6c047596cf27ebba554a68b82604b2",
        "execution": {
          "iopub.status.busy": "2024-12-03T10:51:13.405929Z",
          "iopub.execute_input": "2024-12-03T10:51:13.406269Z",
          "iopub.status.idle": "2024-12-03T10:51:13.685210Z",
          "shell.execute_reply.started": "2024-12-03T10:51:13.406237Z",
          "shell.execute_reply": "2024-12-03T10:51:13.684008Z"
        },
        "id": "YzbCnf1FJyTd",
        "outputId": "0ba66b69-4f7d-4f65-d411-28a41e132bc6",
        "colab": {
          "base_uri": "https://localhost:8080/",
          "height": 193
        }
      },
      "outputs": [
        {
          "output_type": "error",
          "ename": "NameError",
          "evalue": "name 'plt' is not defined",
          "traceback": [
            "\u001b[0;31m---------------------------------------------------------------------------\u001b[0m",
            "\u001b[0;31mNameError\u001b[0m                                 Traceback (most recent call last)",
            "\u001b[0;32m<ipython-input-1-2053fd9098ed>\u001b[0m in \u001b[0;36m<cell line: 2>\u001b[0;34m()\u001b[0m\n\u001b[1;32m      1\u001b[0m \u001b[0;31m# visualize number of digits classes\u001b[0m\u001b[0;34m\u001b[0m\u001b[0;34m\u001b[0m\u001b[0m\n\u001b[0;32m----> 2\u001b[0;31m \u001b[0mplt\u001b[0m\u001b[0;34m.\u001b[0m\u001b[0mfigure\u001b[0m\u001b[0;34m(\u001b[0m\u001b[0mfigsize\u001b[0m\u001b[0;34m=\u001b[0m\u001b[0;34m(\u001b[0m\u001b[0;36m15\u001b[0m\u001b[0;34m,\u001b[0m\u001b[0;36m7\u001b[0m\u001b[0;34m)\u001b[0m\u001b[0;34m)\u001b[0m\u001b[0;34m\u001b[0m\u001b[0;34m\u001b[0m\u001b[0m\n\u001b[0m\u001b[1;32m      3\u001b[0m \u001b[0mg\u001b[0m \u001b[0;34m=\u001b[0m \u001b[0msns\u001b[0m\u001b[0;34m.\u001b[0m\u001b[0mcountplot\u001b[0m\u001b[0;34m(\u001b[0m\u001b[0mY_train\u001b[0m\u001b[0;34m,\u001b[0m \u001b[0mpalette\u001b[0m\u001b[0;34m=\u001b[0m\u001b[0;34m\"icefire\"\u001b[0m\u001b[0;34m)\u001b[0m\u001b[0;34m\u001b[0m\u001b[0;34m\u001b[0m\u001b[0m\n\u001b[1;32m      4\u001b[0m \u001b[0mplt\u001b[0m\u001b[0;34m.\u001b[0m\u001b[0mtitle\u001b[0m\u001b[0;34m(\u001b[0m\u001b[0;34m\"Number of digit classes\"\u001b[0m\u001b[0;34m)\u001b[0m\u001b[0;34m\u001b[0m\u001b[0;34m\u001b[0m\u001b[0m\n",
            "\u001b[0;31mNameError\u001b[0m: name 'plt' is not defined"
          ]
        }
      ],
      "execution_count": null
    },
    {
      "cell_type": "code",
      "source": [
        "# plot some samples\n",
        "img = X_train.iloc[0].to_numpy()\n",
        "img = img.reshape((28,28))\n",
        "plt.imshow(img,cmap='gray')\n",
        "plt.title(train.iloc[0,0])\n",
        "plt.axis(\"off\")\n",
        "plt.show()"
      ],
      "metadata": {
        "trusted": true,
        "_uuid": "4c9d3a1467cf82a3dff04967a9846906f9758ed4",
        "execution": {
          "iopub.status.busy": "2024-12-03T10:51:13.686398Z",
          "iopub.execute_input": "2024-12-03T10:51:13.686768Z",
          "iopub.status.idle": "2024-12-03T10:51:13.848108Z",
          "shell.execute_reply.started": "2024-12-03T10:51:13.686734Z",
          "shell.execute_reply": "2024-12-03T10:51:13.846201Z"
        },
        "id": "F0fL8FtjJyTd",
        "outputId": "28afb8a8-3431-46a7-fe9a-d238132e2cf0"
      },
      "outputs": [
        {
          "output_type": "display_data",
          "data": {
            "text/plain": "<Figure size 640x480 with 1 Axes>",
            "image/png": "[encoded data removed]"
          },
          "metadata": {}
        }
      ],
      "execution_count": null
    },
    {
      "cell_type": "code",
      "source": [
        "# plot some samples\n",
        "img = X_train.iloc[3].to_numpy()\n",
        "img = img.reshape((28,28))\n",
        "plt.imshow(img,cmap='gray')\n",
        "plt.title(train.iloc[3,0])\n",
        "plt.axis(\"off\")\n",
        "plt.show()"
      ],
      "metadata": {
        "trusted": true,
        "_uuid": "d6b119ecbe774a45656d1d157f9b33f38adf8e96",
        "execution": {
          "iopub.status.busy": "2024-12-03T10:51:13.849848Z",
          "iopub.execute_input": "2024-12-03T10:51:13.850244Z",
          "iopub.status.idle": "2024-12-03T10:51:13.949249Z",
          "shell.execute_reply.started": "2024-12-03T10:51:13.850210Z",
          "shell.execute_reply": "2024-12-03T10:51:13.948118Z"
        },
        "id": "WQ8W0O3SJyTe",
        "outputId": "65aa7570-eee0-4e47-ee49-78be7fe5d6d8"
      },
      "outputs": [
        {
          "output_type": "display_data",
          "data": {
            "text/plain": "<Figure size 640x480 with 1 Axes>",
            "image/png": "[encoded data removed]"
          },
          "metadata": {}
        }
      ],
      "execution_count": null
    },
    {
      "cell_type": "markdown",
      "source": [
        "<a id=\"2\"></a>\n",
        "## Normalization, Reshape and Label Encoding\n",
        "* Normalization\n",
        "    * We perform a grayscale normalization to reduce the effect of illumination's differences.\n",
        "    * If we perform normalization, CNN works faster.\n",
        "* Reshape\n",
        "    * Train and test images (28 x 28)\n",
        "    * We reshape all data to 28x28x1 3D matrices.\n",
        "    * Keras needs an extra dimension in the end which correspond to channels. Our images are gray scaled so it use only one channel.\n",
        "* Label Encoding  \n",
        "    * Encode labels to one hot vectors\n",
        "        * 2 => [0,0,1,0,0,0,0,0,0,0]\n",
        "        * 4 => [0,0,0,0,1,0,0,0,0,0]"
      ],
      "metadata": {
        "_uuid": "74e341f4845b42101182eda3c990e3dc4dc64dff",
        "id": "l5g5_fftJyTe"
      }
    },
    {
      "cell_type": "code",
      "source": [
        "# Normalize the data\n",
        "X_train = X_train / 255.0\n",
        "test = test / 255.0\n",
        "print(\"x_train shape: \",X_train.shape)\n",
        "print(\"test shape: \",test.shape)"
      ],
      "metadata": {
        "trusted": true,
        "_uuid": "f39e537f15757b5da3363c138a33e50bd78bbf49",
        "execution": {
          "iopub.status.busy": "2024-12-03T10:51:13.951477Z",
          "iopub.execute_input": "2024-12-03T10:51:13.952642Z",
          "iopub.status.idle": "2024-12-03T10:51:14.076052Z",
          "shell.execute_reply.started": "2024-12-03T10:51:13.952590Z",
          "shell.execute_reply": "2024-12-03T10:51:14.074848Z"
        },
        "id": "8YXIpFCZJyTe",
        "outputId": "16cedce3-1997-46ee-ccea-ddfb46e95952"
      },
      "outputs": [
        {
          "name": "stdout",
          "text": "x_train shape:  (42000, 784)\ntest shape:  (28000, 784)\n",
          "output_type": "stream"
        }
      ],
      "execution_count": null
    },
    {
      "cell_type": "code",
      "source": [
        "# Reshape\n",
        "X_train = X_train.values.reshape(-1,28,28,1)\n",
        "test = test.values.reshape(-1,28,28,1)\n",
        "print(\"x_train shape: \",X_train.shape)\n",
        "print(\"test shape: \",test.shape)"
      ],
      "metadata": {
        "trusted": true,
        "_uuid": "d524f6de086928158a76c54d1685a92c1802e230",
        "execution": {
          "iopub.status.busy": "2024-12-03T10:51:14.077295Z",
          "iopub.execute_input": "2024-12-03T10:51:14.077618Z",
          "iopub.status.idle": "2024-12-03T10:51:14.083964Z",
          "shell.execute_reply.started": "2024-12-03T10:51:14.077584Z",
          "shell.execute_reply": "2024-12-03T10:51:14.082841Z"
        },
        "id": "-rljIkv5JyTe",
        "outputId": "4af1b067-38bd-48b4-83df-d2c1ff8c6ca3"
      },
      "outputs": [
        {
          "name": "stdout",
          "text": "x_train shape:  (42000, 28, 28, 1)\ntest shape:  (28000, 28, 28, 1)\n",
          "output_type": "stream"
        }
      ],
      "execution_count": null
    },
    {
      "cell_type": "code",
      "source": [
        "# Label Encoding\n",
        "from tensorflow.keras.utils import to_categorical\n",
        "Y_train = to_categorical(Y_train, num_classes = 10)"
      ],
      "metadata": {
        "trusted": true,
        "_uuid": "d15d35ca439dce194a96f4442c7a1c085ce24d28",
        "execution": {
          "iopub.status.busy": "2024-12-03T10:51:14.085584Z",
          "iopub.execute_input": "2024-12-03T10:51:14.086052Z",
          "iopub.status.idle": "2024-12-03T10:51:14.096247Z",
          "shell.execute_reply.started": "2024-12-03T10:51:14.086004Z",
          "shell.execute_reply": "2024-12-03T10:51:14.095198Z"
        },
        "id": "801jYAFBJyTe"
      },
      "outputs": [],
      "execution_count": null
    },
    {
      "cell_type": "markdown",
      "source": [
        "<a id=\"3\"></a>\n",
        "## Train Test Split\n",
        "* We split the data into train and test sets.\n",
        "* test size is 10%.\n",
        "* train size is 90%."
      ],
      "metadata": {
        "_uuid": "111d4a1e66d823363f890f892bba39d692479663",
        "id": "OFJwUfTMJyTe"
      }
    },
    {
      "cell_type": "code",
      "source": [
        "# Split the train and the validation set for the fitting\n",
        "from sklearn.model_selection import train_test_split\n",
        "X_train, X_val, Y_train, Y_val = train_test_split(X_train, Y_train, test_size = 0.1, random_state=2)\n",
        "print(\"x_train shape\",X_train.shape)\n",
        "print(\"x_test shape\",X_val.shape)\n",
        "print(\"y_train shape\",Y_train.shape)\n",
        "print(\"y_test shape\",Y_val.shape)"
      ],
      "metadata": {
        "trusted": true,
        "_uuid": "882d9dfb1bee94b2ec1e83911e3e334994d74f4b",
        "execution": {
          "iopub.status.busy": "2024-12-03T10:51:14.099773Z",
          "iopub.execute_input": "2024-12-03T10:51:14.100496Z",
          "iopub.status.idle": "2024-12-03T10:51:14.530696Z",
          "shell.execute_reply.started": "2024-12-03T10:51:14.100439Z",
          "shell.execute_reply": "2024-12-03T10:51:14.529556Z"
        },
        "id": "NKDeNiyjJyTe",
        "outputId": "575196f0-49f3-427f-cebd-b96860063193"
      },
      "outputs": [
        {
          "name": "stdout",
          "text": "x_train shape (37800, 28, 28, 1)\nx_test shape (4200, 28, 28, 1)\ny_train shape (37800, 10)\ny_test shape (4200, 10)\n",
          "output_type": "stream"
        }
      ],
      "execution_count": null
    },
    {
      "cell_type": "code",
      "source": [
        "# Some examples\n",
        "plt.imshow(X_train[2][:,:,0],cmap='gray')\n",
        "plt.show()"
      ],
      "metadata": {
        "trusted": true,
        "_uuid": "1cdc57350e1c251ec583093ebba18c51a537f55f",
        "execution": {
          "iopub.status.busy": "2024-12-03T10:51:14.532359Z",
          "iopub.execute_input": "2024-12-03T10:51:14.532822Z",
          "iopub.status.idle": "2024-12-03T10:51:14.689978Z",
          "shell.execute_reply.started": "2024-12-03T10:51:14.532773Z",
          "shell.execute_reply": "2024-12-03T10:51:14.688733Z"
        },
        "id": "L9T66auaJyTe",
        "outputId": "251cf9ee-fed7-45fd-d931-a92ee6dc2860"
      },
      "outputs": [
        {
          "output_type": "display_data",
          "data": {
            "text/plain": "<Figure size 640x480 with 1 Axes>",
            "image/png": "[encoded data removed]"
          },
          "metadata": {}
        }
      ],
      "execution_count": null
    },
    {
      "cell_type": "markdown",
      "source": [
        "<a id=\"4\"></a>\n",
        "## Convolutional Neural Network\n",
        "* CNN is used for image classification, object detection\n",
        "* <a href=\"https://ibb.co/kV1j9p\"><img src=\"https://preview.ibb.co/nRkBpp/gec2.jpg\" alt=\"gec2\" border=\"0\"></a>"
      ],
      "metadata": {
        "_uuid": "caf4b9f7fcae153ac1d4c0246b1defc9d9d30776",
        "id": "5XOIF8FNJyTe"
      }
    },
    {
      "cell_type": "markdown",
      "source": [
        "<a id=\"5\"></a>\n",
        "### What is Convolution Operation?\n",
        "* We have some image and feature detector(3*3)\n",
        "* Feature detector does not need to be 3 by 3 matrix. It can be 5 by 5 or 7 by 7.\n",
        "* Feature detector = kernel = filter\n",
        "* Feauture detector detects features like edges or convex shapes. Example, if out input is dog, feature detector can detect features like ear or tail of the dog.\n",
        "* feature map = conv(input image, feature detector). Element wise multiplication of matrices.\n",
        "* feature map = convolved feature\n",
        "* Stride = navigating in input image.\n",
        "* We reduce the size of image. This is important bc code runs faster. However, we lost information.\n",
        "* We create multiple feature maps bc we use multiple feature detectors(filters).\n",
        "* Lets look at gimp. Edge detect: [0,10,0],[10,-4,10],[0,10,0]\n",
        "* <a href=\"https://imgbb.com/\"><img src=\"https://image.ibb.co/m4FQC9/gec.jpg\" alt=\"gec\" border=\"0\"></a>\n",
        "* After having convolution layer we use ReLU to break up linearity. Increase nonlinearity. Because images are non linear.\n",
        "* <a href=\"https://ibb.co/mVZih9\"><img src=\"https://preview.ibb.co/gbcQvU/RELU.jpg\" alt=\"RELU\" border=\"0\"></a>"
      ],
      "metadata": {
        "_uuid": "682cb6f5144794038c0bef1dc0814dde0f7fe6c0",
        "id": "4enIivKsJyTf"
      }
    },
    {
      "cell_type": "markdown",
      "source": [
        "<a id=\"6\"></a>\n",
        "### Same Padding\n",
        "* As we keep applying conv layers, the size of the volume will decrease faster than we would like. In the early layers of our network, we want to preserve as much information about the original input volume so that we can extract those low level features.\n",
        "* input size and output size are same.\n",
        "* <a href=\"https://ibb.co/jUPkUp\"><img src=\"https://preview.ibb.co/noH5Up/padding.jpg\" alt=\"padding\" border=\"0\"></a>"
      ],
      "metadata": {
        "_uuid": "3af8fb49243719ad70016b64cd4dff6e62c413d9",
        "id": "lT9WZmF6JyTf"
      }
    },
    {
      "cell_type": "markdown",
      "source": [
        "<a id=\"7\"></a>\n",
        "### Max Pooling\n",
        "* It makes down-sampling or sub-sampling (Reduces the number of parameters)\n",
        "* It makes the detection of features invariant to scale or orientation changes.\n",
        "* It reduce the amount of parameters and computation in the network, and hence to also control overfitting.\n",
        "* <a href=\"https://ibb.co/ckTjN9\"><img src=\"https://preview.ibb.co/gsNYFU/maxpool.jpg\" alt=\"maxpool\" border=\"0\"></a>"
      ],
      "metadata": {
        "_uuid": "6694b8ea366f974d6bd055a2915a5dc06f7a96bb",
        "id": "gzxdbtm7JyTf"
      }
    },
    {
      "cell_type": "markdown",
      "source": [
        "<a id=\"8\"></a>\n",
        "### Flattening\n",
        "* <a href=\"https://imgbb.com/\"><img src=\"https://image.ibb.co/c7eVvU/flattenigng.jpg\" alt=\"flattenigng\" border=\"0\"></a>"
      ],
      "metadata": {
        "_uuid": "c2fb971fc473c9104a27975242a36f8e9183742c",
        "id": "Ujv5qQXMJyTf"
      }
    },
    {
      "cell_type": "markdown",
      "source": [
        "<a id=\"9\"></a>\n",
        "### Full Connection\n",
        "* Neurons in a fully connected layer have connections to all activations in the previous layer\n",
        "* Artificial Neural Network\n",
        "* <a href=\"https://ibb.co/hsS14p\"><img src=\"https://preview.ibb.co/evzsAU/fullyc.jpg\" alt=\"fullyc\" border=\"0\"></a>"
      ],
      "metadata": {
        "trusted": true,
        "_uuid": "f437407cf18fdfacf8626baa5e76ed5d64be1a11",
        "id": "STLKZ0Z3JyTf"
      }
    },
    {
      "cell_type": "markdown",
      "source": [
        "<a id=\"10\"></a>\n",
        "## Implementing with Keras"
      ],
      "metadata": {
        "trusted": true,
        "_uuid": "7b290eb3f3b111d6841f8e4093277be1bde05078",
        "id": "UzDftJ2EJyTf"
      }
    },
    {
      "cell_type": "markdown",
      "source": [
        "<a id=\"11\"></a>\n",
        "### Create Model\n",
        "* conv => max pool => dropout => conv => max pool => dropout => fully connected (2 layer)\n",
        "* Dropout: Dropout is a technique where randomly selected neurons are ignored during training\n",
        "* <a href=\"https://ibb.co/jGcvVU\"><img src=\"https://preview.ibb.co/e7yPPp/dropout.jpg\" alt=\"dropout\" border=\"0\"></a>"
      ],
      "metadata": {
        "trusted": true,
        "_uuid": "fd9feb4c4dadbb8a5cc8a32b5ef582d41b5c0698",
        "id": "twHNBhZOJyTf"
      }
    },
    {
      "cell_type": "code",
      "source": [
        "#\n",
        "from sklearn.metrics import confusion_matrix\n",
        "import itertools\n",
        "\n",
        "from tensorflow.keras.utils import to_categorical\n",
        "from keras.models import Sequential\n",
        "from keras.layers import Dense, Dropout, Flatten, Conv2D, MaxPool2D\n",
        "from keras.optimizers import RMSprop,Adam\n",
        "from tensorflow.keras.preprocessing.image import ImageDataGenerator\n",
        "from keras.callbacks import ReduceLROnPlateau\n",
        "\n",
        "model = Sequential()\n",
        "#\n",
        "model.add(Conv2D(filters = 8, kernel_size = (5,5),padding = 'Same',\n",
        "                 activation ='relu', input_shape = (28,28,1)))\n",
        "model.add(MaxPool2D(pool_size=(2,2)))\n",
        "model.add(Dropout(0.25))\n",
        "#\n",
        "model.add(Conv2D(filters = 16, kernel_size = (3,3),padding = 'Same',\n",
        "                 activation ='relu'))\n",
        "model.add(MaxPool2D(pool_size=(2,2), strides=(2,2)))\n",
        "model.add(Dropout(0.25))\n",
        "# fully connected\n",
        "model.add(Flatten())\n",
        "model.add(Dense(256, activation = \"relu\"))\n",
        "model.add(Dropout(0.5))\n",
        "model.add(Dense(10, activation = \"softmax\"))"
      ],
      "metadata": {
        "trusted": true,
        "_uuid": "c441d7b3852cee5d3636272d4da2f96b169f81ac",
        "execution": {
          "iopub.status.busy": "2024-12-03T10:51:14.691553Z",
          "iopub.execute_input": "2024-12-03T10:51:14.692739Z",
          "iopub.status.idle": "2024-12-03T10:51:14.786957Z",
          "shell.execute_reply.started": "2024-12-03T10:51:14.692687Z",
          "shell.execute_reply": "2024-12-03T10:51:14.785762Z"
        },
        "id": "iBFrNrvSJyTf"
      },
      "outputs": [],
      "execution_count": null
    },
    {
      "cell_type": "markdown",
      "source": [
        "<a id=\"12\"></a>\n",
        "### Define Optimizer   \n",
        "* Adam optimizer: Change the learning rate\n"
      ],
      "metadata": {
        "_uuid": "9a432df491777ca0019db6f6b972581f2c5bd9f9",
        "id": "w6tGjK9-JyTf"
      }
    },
    {
      "cell_type": "code",
      "source": [
        "from tensorflow.keras.optimizers import Adam\n",
        "\n",
        "optimizer = Adam(learning_rate=0.001, beta_1=0.9, beta_2=0.999)\n"
      ],
      "metadata": {
        "trusted": true,
        "_uuid": "607a02b42636e3115a1ac7a8edcadf61cf5ea1b0",
        "execution": {
          "iopub.status.busy": "2024-12-03T10:51:14.788192Z",
          "iopub.execute_input": "2024-12-03T10:51:14.788517Z",
          "iopub.status.idle": "2024-12-03T10:51:14.795515Z",
          "shell.execute_reply.started": "2024-12-03T10:51:14.788485Z",
          "shell.execute_reply": "2024-12-03T10:51:14.794460Z"
        },
        "id": "1-7emEh-JyTf"
      },
      "outputs": [],
      "execution_count": null
    },
    {
      "cell_type": "markdown",
      "source": [
        "<a id=\"13\"></a>\n",
        "### Compile Model\n",
        "* categorical crossentropy\n",
        "* We make binary cross entropy at previous parts and in machine learning tutorial\n",
        "* At this time we use categorical crossentropy. That means that we have multi class.\n",
        "* <a href=\"https://ibb.co/jm1bpp\"><img src=\"https://preview.ibb.co/nN3ZaU/cce.jpg\" alt=\"cce\" border=\"0\"></a>\n"
      ],
      "metadata": {
        "_uuid": "91bf542a979c5b191c534876186bf31e70ec7f06",
        "id": "5yOwYhZgJyTf"
      }
    },
    {
      "cell_type": "code",
      "source": [
        "# Compile the model\n",
        "model.compile(optimizer = optimizer , loss = \"categorical_crossentropy\", metrics=[\"accuracy\"])"
      ],
      "metadata": {
        "trusted": true,
        "_uuid": "0d1eefc68470b4cdcec04c2570651da3d97676d0",
        "execution": {
          "iopub.status.busy": "2024-12-03T10:51:14.796875Z",
          "iopub.execute_input": "2024-12-03T10:51:14.797276Z",
          "iopub.status.idle": "2024-12-03T10:51:14.811905Z",
          "shell.execute_reply.started": "2024-12-03T10:51:14.797242Z",
          "shell.execute_reply": "2024-12-03T10:51:14.810751Z"
        },
        "id": "hcYWmfHBJyTf"
      },
      "outputs": [],
      "execution_count": null
    },
    {
      "cell_type": "markdown",
      "source": [
        "<a id=\"14\"></a>\n",
        "### Epochs and Batch Size\n",
        "* Say you have a dataset of 10 examples (or samples). You have a **batch size** of 2, and you've specified you want the algorithm to run for 3 **epochs**. Therefore, in each epoch, you have 5 **batches** (10/2 = 5). Each batch gets passed through the algorithm, therefore you have 5 iterations **per epoch**.\n",
        "* reference: https://stackoverflow.com/questions/4752626/epoch-vs-iteration-when-training-neural-networks"
      ],
      "metadata": {
        "_uuid": "d5d8fea4cbb9b53cf1bb5089357a33dc179ee981",
        "id": "fLxP4yzCJyTf"
      }
    },
    {
      "cell_type": "code",
      "source": [
        "epochs = 10  # for better result increase the epochs\n",
        "batch_size = 250"
      ],
      "metadata": {
        "trusted": true,
        "_uuid": "a237feb5e53ecbc8799101cb6e699877faafde77",
        "execution": {
          "iopub.status.busy": "2024-12-03T10:51:14.813253Z",
          "iopub.execute_input": "2024-12-03T10:51:14.813685Z",
          "iopub.status.idle": "2024-12-03T10:51:14.821294Z",
          "shell.execute_reply.started": "2024-12-03T10:51:14.813614Z",
          "shell.execute_reply": "2024-12-03T10:51:14.819627Z"
        },
        "id": "GcVy4tk7JyTf"
      },
      "outputs": [],
      "execution_count": null
    },
    {
      "cell_type": "markdown",
      "source": [
        "<a id=\"15\"></a>\n",
        "### Data Augmentation\n",
        "* To avoid overfitting problem, we need to expand artificially our handwritten digit dataset\n",
        "* Alter the training data with small transformations to reproduce the variations of digit.\n",
        "* For example, the number is not centered The scale is not the same (some who write with big/small numbers) The image is rotated.\n",
        "* <a href=\"https://ibb.co/k24CUp\"><img src=\"https://preview.ibb.co/nMxXUp/augment.jpg\" alt=\"augment\" border=\"0\"></a>\n",
        "    \n"
      ],
      "metadata": {
        "_uuid": "e87c60e45759e0c52c2b72ee562fdb964c8008d5",
        "id": "hz8MadUdJyTf"
      }
    },
    {
      "cell_type": "code",
      "source": [
        "# data augmentation\n",
        "datagen = ImageDataGenerator(\n",
        "        featurewise_center=False,  # set input mean to 0 over the dataset\n",
        "        samplewise_center=False,  # set each sample mean to 0\n",
        "        featurewise_std_normalization=False,  # divide inputs by std of the dataset\n",
        "        samplewise_std_normalization=False,  # divide each input by its std\n",
        "        zca_whitening=False,  # dimesion reduction\n",
        "        rotation_range=5,  # randomly rotate images in the range 5 degrees\n",
        "        zoom_range = 0.1, # Randomly zoom image 10%\n",
        "        width_shift_range=0.1,  # randomly shift images horizontally 10%\n",
        "        height_shift_range=0.1,  # randomly shift images vertically 10%\n",
        "        horizontal_flip=False,  # randomly flip images\n",
        "        vertical_flip=False)  # randomly flip images\n",
        "\n",
        "datagen.fit(X_train)"
      ],
      "metadata": {
        "trusted": true,
        "_uuid": "c339fa7d06e9b73a519ca661bed19de482707d1f",
        "execution": {
          "iopub.status.busy": "2024-12-03T10:51:14.823179Z",
          "iopub.execute_input": "2024-12-03T10:51:14.824122Z",
          "iopub.status.idle": "2024-12-03T10:51:14.933338Z",
          "shell.execute_reply.started": "2024-12-03T10:51:14.824066Z",
          "shell.execute_reply": "2024-12-03T10:51:14.932451Z"
        },
        "id": "jI9cUWVDJyTf"
      },
      "outputs": [],
      "execution_count": null
    },
    {
      "cell_type": "markdown",
      "source": [
        "<a id=\"16\"></a>\n",
        "### Fit the model"
      ],
      "metadata": {
        "_uuid": "e42e43f1b3b9e6da0d99dafff8f4a4b514a07f4c",
        "id": "wjf9L6I4JyTg"
      }
    },
    {
      "cell_type": "code",
      "source": [
        "history = model.fit(\n",
        "    datagen.flow(X_train, Y_train, batch_size=batch_size),\n",
        "    epochs=epochs,\n",
        "    validation_data=(X_val, Y_val),\n",
        "    steps_per_epoch=X_train.shape[0] // batch_size\n",
        ")\n"
      ],
      "metadata": {
        "trusted": true,
        "_uuid": "4b2957bb8976a25cdbbbdc3110d68c5035a9773c",
        "execution": {
          "iopub.status.busy": "2024-12-03T10:51:14.934775Z",
          "iopub.execute_input": "2024-12-03T10:51:14.935110Z",
          "iopub.status.idle": "2024-12-03T10:52:52.774533Z",
          "shell.execute_reply.started": "2024-12-03T10:51:14.935079Z",
          "shell.execute_reply": "2024-12-03T10:52:52.773482Z"
        },
        "id": "s6sLQJ0QJyTg",
        "outputId": "339484ce-44ce-4dc9-b7cb-aca734f6ea86"
      },
      "outputs": [
        {
          "name": "stdout",
          "text": "Epoch 1/10\n\u001b[1m151/151\u001b[0m \u001b[32m━━━━━━━━━━━━━━━━━━━━\u001b[0m\u001b[37m\u001b[0m \u001b[1m20s\u001b[0m 120ms/step - accuracy: 0.4529 - loss: 1.5908 - val_accuracy: 0.9412 - val_loss: 0.2367\nEpoch 2/10\n\u001b[1m151/151\u001b[0m \u001b[32m━━━━━━━━━━━━━━━━━━━━\u001b[0m\u001b[37m\u001b[0m \u001b[1m1s\u001b[0m 5ms/step - accuracy: 0.8400 - loss: 0.5465 - val_accuracy: 0.9390 - val_loss: 0.2342\nEpoch 3/10\n\u001b[1m151/151\u001b[0m \u001b[32m━━━━━━━━━━━━━━━━━━━━\u001b[0m\u001b[37m\u001b[0m \u001b[1m18s\u001b[0m 117ms/step - accuracy: 0.8411 - loss: 0.4888 - val_accuracy: 0.9636 - val_loss: 0.1346\nEpoch 4/10\n\u001b[1m151/151\u001b[0m \u001b[32m━━━━━━━━━━━━━━━━━━━━\u001b[0m\u001b[37m\u001b[0m \u001b[1m1s\u001b[0m 5ms/step - accuracy: 0.9200 - loss: 0.3101 - val_accuracy: 0.9650 - val_loss: 0.1327\nEpoch 5/10\n\u001b[1m151/151\u001b[0m \u001b[32m━━━━━━━━━━━━━━━━━━━━\u001b[0m\u001b[37m\u001b[0m \u001b[1m19s\u001b[0m 119ms/step - accuracy: 0.8996 - loss: 0.3286 - val_accuracy: 0.9719 - val_loss: 0.1044\nEpoch 6/10\n\u001b[1m151/151\u001b[0m \u001b[32m━━━━━━━━━━━━━━━━━━━━\u001b[0m\u001b[37m\u001b[0m \u001b[1m1s\u001b[0m 5ms/step - accuracy: 0.9120 - loss: 0.3118 - val_accuracy: 0.9717 - val_loss: 0.1032\nEpoch 7/10\n\u001b[1m151/151\u001b[0m \u001b[32m━━━━━━━━━━━━━━━━━━━━\u001b[0m\u001b[37m\u001b[0m \u001b[1m19s\u001b[0m 119ms/step - accuracy: 0.9156 - loss: 0.2701 - val_accuracy: 0.9750 - val_loss: 0.0892\nEpoch 8/10\n\u001b[1m151/151\u001b[0m \u001b[32m━━━━━━━━━━━━━━━━━━━━\u001b[0m\u001b[37m\u001b[0m \u001b[1m1s\u001b[0m 5ms/step - accuracy: 0.9360 - loss: 0.2205 - val_accuracy: 0.9750 - val_loss: 0.0887\nEpoch 9/10\n\u001b[1m151/151\u001b[0m \u001b[32m━━━━━━━━━━━━━━━━━━━━\u001b[0m\u001b[37m\u001b[0m \u001b[1m18s\u001b[0m 116ms/step - accuracy: 0.9262 - loss: 0.2423 - val_accuracy: 0.9764 - val_loss: 0.0772\nEpoch 10/10\n\u001b[1m151/151\u001b[0m \u001b[32m━━━━━━━━━━━━━━━━━━━━\u001b[0m\u001b[37m\u001b[0m \u001b[1m1s\u001b[0m 5ms/step - accuracy: 0.9400 - loss: 0.1673 - val_accuracy: 0.9767 - val_loss: 0.0771\n",
          "output_type": "stream"
        }
      ],
      "execution_count": null
    },
    {
      "cell_type": "markdown",
      "source": [
        "<a id=\"17\"></a>\n",
        "### Evaluate the model\n",
        "* Test Loss visualization\n",
        "* Confusion matrix\n"
      ],
      "metadata": {
        "_uuid": "debd5424728e11aa30a8513ac7b4f7377193a2da",
        "id": "S_opCQ-KJyTg"
      }
    },
    {
      "cell_type": "code",
      "source": [
        "# Plot the loss and accuracy curves for training and validation\n",
        "plt.plot(history.history['val_loss'], color='b', label=\"validation loss\")\n",
        "plt.title(\"Test Loss\")\n",
        "plt.xlabel(\"Number of Epochs\")\n",
        "plt.ylabel(\"Loss\")\n",
        "plt.legend()\n",
        "plt.show()"
      ],
      "metadata": {
        "trusted": true,
        "_uuid": "180a06f7ae01e69117c6c8258411cfe1b9b7b991",
        "execution": {
          "iopub.status.busy": "2024-12-03T10:52:52.775903Z",
          "iopub.execute_input": "2024-12-03T10:52:52.776232Z",
          "iopub.status.idle": "2024-12-03T10:52:52.991527Z",
          "shell.execute_reply.started": "2024-12-03T10:52:52.776200Z",
          "shell.execute_reply": "2024-12-03T10:52:52.990213Z"
        },
        "id": "8QsFtlL5JyTg",
        "outputId": "b14b31d7-3934-4a7a-89f9-07815f5a88e0"
      },
      "outputs": [
        {
          "output_type": "display_data",
          "data": {
            "text/plain": "<Figure size 640x480 with 1 Axes>",
            "image/png": "[encoded data removed]"
          },
          "metadata": {}
        }
      ],
      "execution_count": null
    },
    {
      "cell_type": "code",
      "source": [
        "# confusion matrix\n",
        "import seaborn as sns\n",
        "# Predict the values from the validation dataset\n",
        "Y_pred = model.predict(X_val)\n",
        "# Convert predictions classes to one hot vectors\n",
        "Y_pred_classes = np.argmax(Y_pred,axis = 1)\n",
        "# Convert validation observations to one hot vectors\n",
        "Y_true = np.argmax(Y_val,axis = 1)\n",
        "# compute the confusion matrix\n",
        "confusion_mtx = confusion_matrix(Y_true, Y_pred_classes)\n",
        "# plot the confusion matrix\n",
        "f,ax = plt.subplots(figsize=(8, 8))\n",
        "sns.heatmap(confusion_mtx, annot=True, linewidths=0.01,cmap=\"Greens\",linecolor=\"gray\", fmt= '.1f',ax=ax)\n",
        "plt.xlabel(\"Predicted Label\")\n",
        "plt.ylabel(\"True Label\")\n",
        "plt.title(\"Confusion Matrix\")\n",
        "plt.show()"
      ],
      "metadata": {
        "trusted": true,
        "_uuid": "6586e37bd470db822086e191a90388e7175d504f",
        "execution": {
          "iopub.status.busy": "2024-12-03T10:52:52.992839Z",
          "iopub.execute_input": "2024-12-03T10:52:52.993529Z",
          "iopub.status.idle": "2024-12-03T10:52:54.426140Z",
          "shell.execute_reply.started": "2024-12-03T10:52:52.993493Z",
          "shell.execute_reply": "2024-12-03T10:52:54.424718Z"
        },
        "id": "woZEWgchJyTg",
        "outputId": "071272d4-ebd9-4f4c-c5ba-c808f3106377"
      },
      "outputs": [
        {
          "name": "stdout",
          "text": "\u001b[1m132/132\u001b[0m \u001b[32m━━━━━━━━━━━━━━━━━━━━\u001b[0m\u001b[37m\u001b[0m \u001b[1m1s\u001b[0m 6ms/step\n",
          "output_type": "stream"
        },
        {
          "output_type": "display_data",
          "data": {
            "text/plain": "<Figure size 800x800 with 2 Axes>",
            "image/png": "[encoded data removed]"
          },
          "metadata": {}
        }
      ],
      "execution_count": null
    },
    {
      "cell_type": "markdown",
      "source": [
        "<a id=\"18\"></a>\n",
        "## Conclusion\n",
        "* http://scs.ryerson.ca/~aharley/vis/conv/flat.html\n",
        "* HW\n",
        "* If you have any question I will be very happy to hear it."
      ],
      "metadata": {
        "_uuid": "9409bc6a7e905d5887c8eec8d056c9f015bf4878",
        "id": "oTP8kjRbJyTg"
      }
    }
  ]
}